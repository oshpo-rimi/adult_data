{
  "nbformat": 4,
  "nbformat_minor": 0,
  "metadata": {
    "colab": {
      "provenance": []
    },
    "kernelspec": {
      "name": "python3",
      "display_name": "Python 3"
    },
    "language_info": {
      "name": "python"
    }
  },
  "cells": [
    {
      "cell_type": "code",
      "source": [
        "from google.colab import drive\n",
        "drive.mount('/content/drive')"
      ],
      "metadata": {
        "colab": {
          "base_uri": "https://localhost:8080/"
        },
        "id": "7USx0yBywNTv",
        "outputId": "1f931064-0035-449d-b556-5494b0f62cc5"
      },
      "execution_count": 7,
      "outputs": [
        {
          "output_type": "stream",
          "name": "stdout",
          "text": [
            "Drive already mounted at /content/drive; to attempt to forcibly remount, call drive.mount(\"/content/drive\", force_remount=True).\n"
          ]
        }
      ]
    },
    {
      "cell_type": "code",
      "execution_count": 38,
      "metadata": {
        "colab": {
          "base_uri": "https://localhost:8080/"
        },
        "id": "GfHGNL2tuiU9",
        "outputId": "2ef29dc7-a622-4ffe-b5ed-62fc4ae9bc6b"
      },
      "outputs": [
        {
          "output_type": "stream",
          "name": "stdout",
          "text": [
            "White                 27816\n",
            "Black                  3124\n",
            "Asian-Pac-Islander     1039\n",
            "Amer-Indian-Eskimo      311\n",
            "Other                   271\n",
            "Name: race, dtype: int64\n"
          ]
        }
      ],
      "source": [
        "#1 people of each race are represented in this dataset? This should be a Pandas series with race names as the index labels. (race column)\n",
        "import pandas as pd\n",
        "df = pd.read_csv('/content/drive/MyDrive/adult.data.csv') \n",
        "#count the number of people in each race\n",
        "race_count = df['race'].value_counts()\n",
        "print(race_count)\n"
      ]
    },
    {
      "cell_type": "code",
      "source": [
        "#2 Average age of men \n",
        "\n",
        "men_age = df[df['sex'] == 'Male']['age']\n",
        "average_age = men_age.mean()\n",
        "\n",
        "print(\"Average Age: \" ,average_age)"
      ],
      "metadata": {
        "colab": {
          "base_uri": "https://localhost:8080/"
        },
        "id": "cxfc5vF2vOTo",
        "outputId": "2bcfb017-d160-4255-e0be-619ee9c18d2e"
      },
      "execution_count": 4,
      "outputs": [
        {
          "output_type": "stream",
          "name": "stdout",
          "text": [
            "Average Age:  39.43354749885268\n"
          ]
        }
      ]
    },
    {
      "cell_type": "code",
      "source": [
        "#3  the percentage of people who have a Bachelor's degree?\n",
        "\n",
        "num_bachelor_degree_ = len(df[df['education']=='Bachelors']) \n",
        "total_people = len(df) \n",
        "percentage = (num_bachelor_degree_/total_people)*100\n",
        "\n",
        "print(\"number of bachelor degree holders : \" , num_bachelor_degree_)\n",
        "print(\"total people :\" , total_people)\n",
        "print(percentage , \"%\")"
      ],
      "metadata": {
        "colab": {
          "base_uri": "https://localhost:8080/"
        },
        "id": "uGil87GIvOyL",
        "outputId": "0818bde2-385b-4564-a793-a4ce761e3772"
      },
      "execution_count": 5,
      "outputs": [
        {
          "output_type": "stream",
          "name": "stdout",
          "text": [
            "number of bachelor degree holders :  5355\n",
            "total people : 32561\n",
            "16.44605509658794 %\n"
          ]
        }
      ]
    },
    {
      "cell_type": "code",
      "source": [
        "#4 percentage of people with advanced education (Bachelors, Masters, or Doctorate) make more than 50K?\n",
        "\n",
        "advanced_education = df[(df['education'] == 'Bachelors') | (df['education'] == 'Masters') | (df['education'] == 'Doctorate')]\n",
        "high_salary = len(advanced_education[advanced_education['salary'] == '>50K'])\n",
        "percentage = (high_salary/len(advanced_education))*100\n",
        "print(high_salary)\n",
        "print(len(advanced_education))\n",
        "print(\"People with advanced education and high salary: \" ,percentage ,\"%\")\n"
      ],
      "metadata": {
        "colab": {
          "base_uri": "https://localhost:8080/"
        },
        "id": "NSInthbeyA2r",
        "outputId": "9cf953ab-b85f-4d99-a80e-478f10c3dec4"
      },
      "execution_count": 10,
      "outputs": [
        {
          "output_type": "stream",
          "name": "stdout",
          "text": [
            "3486\n",
            "7491\n",
            "People with advanced education and high salary:  46.535843011613935 %\n"
          ]
        }
      ]
    },
    {
      "cell_type": "code",
      "source": [
        "#5  percentage of people without advanced education make more than 50K?\n",
        "bachelors = df['education'].loc[(df['education'] == 'Bachelors') & (df['salary'] == '>50K')].count()\n",
        "masters = df['education'].loc[(df['education'] == 'Masters') & (df['salary'] == '>50K')].count()\n",
        "doctorate = df['education'].loc[(df['education'] == 'Doctorate') & (df['salary'] == '>50K')].count()\n",
        "\n",
        "adv_edu = bachelors + masters + doctorate\n",
        "total = df['age'].count()\n",
        "adv_edu_percent = (adv_edu/total)*100\n",
        "\n",
        "print(adv_edu_percent.round(decimals = 2))"
      ],
      "metadata": {
        "colab": {
          "base_uri": "https://localhost:8080/"
        },
        "id": "-ObuxK2h6k3N",
        "outputId": "e4df96ef-6f0b-4a44-8cca-ace686ae9b84"
      },
      "execution_count": 37,
      "outputs": [
        {
          "output_type": "stream",
          "name": "stdout",
          "text": [
            "10.71\n"
          ]
        }
      ]
    },
    {
      "cell_type": "code",
      "source": [
        "#6  the minimum number of hours a person works per week?\n",
        "not_adv_edu = df['education'].loc[(df['education'] != 'Bachelors') & (df['education'] != 'Masters')& (df['education'] != 'Doctorate') & (df['salary'] == '>50K')].count()\n",
        "total = df['age'].count()\n",
        "not_adv_edu_percent = (not_adv_edu/total)*100\n",
        "\n",
        "print(not_adv_edu_percent.round(decimals = 2))"
      ],
      "metadata": {
        "colab": {
          "base_uri": "https://localhost:8080/"
        },
        "id": "sURTtTwp6Ku0",
        "outputId": "a330304c-fe93-4a87-d1bd-550ff16535dd"
      },
      "execution_count": 31,
      "outputs": [
        {
          "output_type": "stream",
          "name": "stdout",
          "text": [
            "13.37\n"
          ]
        }
      ]
    },
    {
      "cell_type": "code",
      "source": [
        "#7percentage of the people who work the minimum number of hours per week have a salary of more than 50K?\n",
        "minimum_hours = df['hours-per-week']\n",
        "\n",
        "print(minimum_hours.min())"
      ],
      "metadata": {
        "colab": {
          "base_uri": "https://localhost:8080/"
        },
        "id": "9uqQsLlH60w0",
        "outputId": "cf9c630c-742d-41fc-b8b8-36d544b8028e"
      },
      "execution_count": 24,
      "outputs": [
        {
          "output_type": "stream",
          "name": "stdout",
          "text": [
            "1\n"
          ]
        }
      ]
    },
    {
      "cell_type": "code",
      "source": [
        " #8 country has the highest percentage of people that earn >50K and what is that percentage?\n",
        "country_percentages = df[df['salary'] == '>50K']['native-country'].value_counts(normalize=True) * 100\n",
        "print(country_percentages)"
      ],
      "metadata": {
        "colab": {
          "base_uri": "https://localhost:8080/"
        },
        "id": "6xlxHGeX-HsK",
        "outputId": "7b325fad-1fb6-4b43-cbf7-44cdb673d87b"
      },
      "execution_count": 26,
      "outputs": [
        {
          "output_type": "stream",
          "name": "stdout",
          "text": [
            "United-States         91.455172\n",
            "?                      1.862007\n",
            "Philippines            0.777962\n",
            "Germany                0.561153\n",
            "India                  0.510139\n",
            "Canada                 0.497386\n",
            "Mexico                 0.420865\n",
            "England                0.382604\n",
            "Italy                  0.318837\n",
            "Cuba                   0.318837\n",
            "Japan                  0.306083\n",
            "Taiwan                 0.255070\n",
            "China                  0.255070\n",
            "Iran                   0.229563\n",
            "South                  0.204056\n",
            "Puerto-Rico            0.153042\n",
            "Poland                 0.153042\n",
            "France                 0.153042\n",
            "Jamaica                0.127535\n",
            "El-Salvador            0.114781\n",
            "Greece                 0.102028\n",
            "Cambodia               0.089274\n",
            "Hong                   0.076521\n",
            "Yugoslavia             0.076521\n",
            "Ireland                0.063767\n",
            "Vietnam                0.063767\n",
            "Portugal               0.051014\n",
            "Haiti                  0.051014\n",
            "Ecuador                0.051014\n",
            "Thailand               0.038260\n",
            "Hungary                0.038260\n",
            "Guatemala              0.038260\n",
            "Scotland               0.038260\n",
            "Nicaragua              0.025507\n",
            "Trinadad&Tobago        0.025507\n",
            "Laos                   0.025507\n",
            "Columbia               0.025507\n",
            "Dominican-Republic     0.025507\n",
            "Peru                   0.025507\n",
            "Honduras               0.012753\n",
            "Name: native-country, dtype: float64\n"
          ]
        }
      ]
    },
    {
      "cell_type": "code",
      "source": [
        "#9.Identify the most popular occupation for those who earn >50K in India.\n",
        "india_high_earners = df[(df['native-country'] == 'India') & (df['salary'] == '>50K')]\n",
        "\n",
        "popular_occupation = india_high_earners['occupation'].value_counts()\n",
        "print(popular_occupation)\n",
        "print(\"Most Popular Occupation among indians : \" ,popular_occupation.idxmax())\n"
      ],
      "metadata": {
        "colab": {
          "base_uri": "https://localhost:8080/"
        },
        "id": "LnVJxcOR9Jbi",
        "outputId": "e06ca300-38ec-40d5-de78-0153cdca4d67"
      },
      "execution_count": 39,
      "outputs": [
        {
          "output_type": "stream",
          "name": "stdout",
          "text": [
            "Prof-specialty      25\n",
            "Exec-managerial      8\n",
            "Other-service        2\n",
            "Tech-support         2\n",
            "Transport-moving     1\n",
            "Sales                1\n",
            "Adm-clerical         1\n",
            "Name: occupation, dtype: int64\n",
            "Most Popular Occupation among indians :  Prof-specialty\n"
          ]
        }
      ]
    }
  ]
}